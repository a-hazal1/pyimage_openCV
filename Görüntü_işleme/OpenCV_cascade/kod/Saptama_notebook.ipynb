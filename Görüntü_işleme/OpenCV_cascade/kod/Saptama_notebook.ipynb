{
 "cells": [
  {
   "attachments": {},
   "cell_type": "markdown",
   "metadata": {},
   "source": [
    "Yüz tanımlama"
   ]
  },
  {
   "cell_type": "code",
   "execution_count": 6,
   "metadata": {},
   "outputs": [],
   "source": [
    "import cv2   \n",
    "img = cv2.imread(\"C:\\\\OpenCV\\\\test_images\\\\face.png.png\")\n",
    "\n",
    "#Kullanacağımız cascade dosyasını çalışmaya dahil et.\n",
    "face_cascade = cv2.CascadeClassifier(\"C:\\\\OpenCV\\\\haarCascade\\\\frontalface.xml.xml\")\n",
    "\n",
    "#resmi gri tonlara çevir.\n",
    "gray = cv2.cvtColor(img, cv2.COLOR_BGR2GRAY)\n",
    "\n",
    "#cascade dosyası kullanılarak resim üzerindeki yüzlerin koordinarlarını bul.\n",
    "faces = face_cascade.detectMultiScale(gray, 1.3, 7)#gri yapılmış resim,ölçeklendirme,en kaç farklı yüz bulması\n",
    "\n",
    "#faces değişkeninde tutulan koordinatları kullanarak yüzleri dikdörtgen içerisine al.\n",
    "for (x,y,w,h) in faces:\n",
    "    cv2.rectangle(img,(x,y),(x+w,y+h),(0,0,255),2)\n",
    "\n",
    "#resmi göster.\n",
    "cv2.imshow('image',img)\n",
    "\n",
    "#programı kapat.\n",
    "cv2.waitKey(0)\n",
    "cv2.destroyAllWindows()"
   ]
  },
  {
   "cell_type": "code",
   "execution_count": null,
   "metadata": {},
   "outputs": [],
   "source": [
    "import cv2\n",
    "vid = cv2.VideoCapture(\"C:\\\\OpenCV\\\\test_videos\\\\faces.mp4.mp4\")\n",
    "face_cascade = cv2.CascadeClassifier(\"C:\\\\OpenCV\\\\haarCascade\\\\frontalface.xml.xml\")\n",
    "#Sonsuz bir döngü ile her kareyi(frame) tek tek inceleyelim.\n",
    "while 1:\n",
    "    #Her kareyi tek tek okuyalım.\n",
    "    _, frame = vid.read()\n",
    "\n",
    "    gray = cv2.cvtColor(frame, cv2.COLOR_BGR2GRAY)\n",
    "    faces = face_cascade.detectMultiScale(gray, 1.1, 9)#yüzlerin koordinatı\n",
    "    for (x,y,w,h) in faces:\n",
    "        cv2.rectangle(frame,(x,y),(x+w,y+h),(0,255,0),2)\n",
    "        \n",
    "    # 8. İşlediğimiz kareleri görelim.\n",
    "    cv2.imshow('image',frame)\n",
    "\n",
    "    # 9. Programı kapatacak kodu yazalım.\n",
    "    if cv2.waitKey(1) & 0xFF == ord('q'):\n",
    "        break"
   ]
  },
  {
   "attachments": {},
   "cell_type": "markdown",
   "metadata": {},
   "source": [
    "Göz Algılama"
   ]
  },
  {
   "cell_type": "code",
   "execution_count": 8,
   "metadata": {},
   "outputs": [],
   "source": [
    "import cv2\n",
    "img = cv2.imread(\"C:\\\\OpenCV\\\\test_images\\\\face.png.png\")\n",
    "face_cascade = cv2.CascadeClassifier(\"C:\\\\OpenCV\\\\haarCascade\\\\frontalface.xml.xml\")\n",
    "eye_cascade = cv2.CascadeClassifier(\"C:\\\\OpenCV\\\\haarCascade\\\\eye.xml.xml\")\n",
    "\n",
    "gray = cv2.cvtColor(img, cv2.COLOR_BGR2GRAY)\n",
    "    \n",
    "#cascade dosyamızı kullanarak her bir kare üzerindeki yüzlerin koordinarlarını bulalım.\n",
    "faces = face_cascade.detectMultiScale(gray,1.2,5)\n",
    "\n",
    "#faces değişkeninde tuttuğumuz koordinatları kullanarak yüzleri dikdörtgen içerisine alalım.\n",
    "for (x,y,w,h) in faces:\n",
    "    cv2.rectangle(img,(x,y),(x+w,y+h),(0,255,0),2)\n",
    "\n",
    "#bulunan yüzler içinde göz ara. \n",
    "gray2 = gray[y:y+h, x:x+w]\n",
    "img2 = img[y:y+h, x:x+w]\n",
    "\n",
    "#eye cascade dosyasını kullanarak gözlerin koordinatlarını bulalım.\n",
    "eyes = eye_cascade.detectMultiScale(gray2)\n",
    "\n",
    "#bu koordinatlara dikdörtgen çizelim.\n",
    "for (ex,ey,ew,eh) in eyes:\n",
    "\tcv2.rectangle(img2,(ex,ey),(ex+ew,ey+eh),(0,0,255),2)\n",
    "         \n",
    "cv2.imshow('image',img)\n",
    "\n",
    "cv2.waitKey(0)\n",
    "cv2.destroyAllWindows()"
   ]
  },
  {
   "cell_type": "code",
   "execution_count": 15,
   "metadata": {},
   "outputs": [
    {
     "ename": "",
     "evalue": "",
     "output_type": "error",
     "traceback": [
      "\u001b[1;31mThe Kernel crashed while executing code in the the current cell or a previous cell. Please review the code in the cell(s) to identify a possible cause of the failure. Click <a href='https://aka.ms/vscodeJupyterKernelCrash'>here</a> for more info. View Jupyter <a href='command:jupyter.viewOutput'>log</a> for further details."
     ]
    }
   ],
   "source": [
    "import cv2\n",
    "vid = cv2.VideoCapture(\"C:\\\\OpenCV\\\\test_videos\\\\eye.mp4.mp4\")\n",
    "face_cascade = cv2.CascadeClassifier(\"C:\\\\OpenCV\\\\haarCascade\\\\frontalface.xml.xml\")\n",
    "eye_cascade = cv2.CascadeClassifier(\"C:\\\\OpenCV\\\\haarCascade\\\\eye.xml.xml\")\n",
    "while 1:\n",
    "    #Her kareyi tek tek okuyalım.\n",
    "    ret, frame = vid.read()\n",
    "    frame= cv2.resize(frame,(480,360))\n",
    "    gray = cv2.cvtColor(frame, cv2.COLOR_BGR2GRAY)\n",
    "        \n",
    "    #cascade dosyamızı kullanarak her bir kare üzerindeki yüzlerin koordinarlarını bulalım.\n",
    "    faces = face_cascade.detectMultiScale(gray)\n",
    "\n",
    "    #faces değişkeninde tuttuğumuz koordinatları kullanarak yüzleri dikdörtgen içerisine alalım.\n",
    "    for (x,y,w,h) in faces:\n",
    "        cv2.rectangle(frame,(x,y),(x+w,y+h),(0,255,0),2)\n",
    "\n",
    "    #bulunan yüzler içinde göz ara. \n",
    "    gray2 = gray[y:y+h, x:x+w]\n",
    "    frame2 = frame[y:y+h, x:x+w]\n",
    "\n",
    "    #eye cascade dosyasını kullanarak gözlerin koordinatlarını bulalım.\n",
    "    eyes = eye_cascade.detectMultiScale(gray2)\n",
    "\n",
    "    #bu koordinatlara dikdörtgen çizelim.\n",
    "    for (ex,ey,ew,eh) in eyes:\n",
    "        cv2.rectangle(frame2,(ex,ey),(ex+ew,ey+eh),(0,0,255),2)\n",
    "            \n",
    "    cv2.imshow('video',frame)\n",
    "    if cv2.waitKey(5) & 0xFF == ord('q'):\n",
    "        break"
   ]
  },
  {
   "attachments": {},
   "cell_type": "markdown",
   "metadata": {},
   "source": [
    "Beden Algılama"
   ]
  },
  {
   "cell_type": "code",
   "execution_count": 14,
   "metadata": {},
   "outputs": [],
   "source": [
    "import cv2   \n",
    "img = cv2.imread(\"C:\\\\OpenCV\\\\test_images\\\\body.jpg.jpg\")\n",
    "body_cascade = cv2.CascadeClassifier(\"C:\\\\OpenCV\\\\haarCascade\\\\fullbody.xml.xml\")\n",
    "gray = cv2.cvtColor(img, cv2.COLOR_BGR2GRAY)\n",
    "\n",
    "bodies = body_cascade.detectMultiScale(gray, 1.2,1)\n",
    "for (x,y,w,h) in bodies:\n",
    "    cv2.rectangle(img,(x,y),(x+w,y+h),(0,0,255),3)\n",
    "\n",
    "cv2.imshow('image',img)\n",
    "\n",
    "cv2.waitKey(0)\n",
    "cv2.destroyAllWindows()\n",
    "\n",
    "#"
   ]
  },
  {
   "cell_type": "code",
   "execution_count": null,
   "metadata": {},
   "outputs": [],
   "source": [
    "\n",
    "import cv2\n",
    "vid = cv2.VideoCapture(\"C:\\\\OpenCV\\\\test_videos\\\\body.mp4.mp4\")\n",
    "body_cascade = cv2.CascadeClassifier(\"C:\\\\OpenCV\\\\haarCascade\\\\fullbody.xml.xml\")\n",
    "#Sonsuz bir döngü ile her kareyi(frame) tek tek inceleyelim.\n",
    "while 1:\n",
    "    _, frame = vid.read()\n",
    "\n",
    "    gray = cv2.cvtColor(frame, cv2.COLOR_BGR2GRAY)\n",
    "    bodies = body_cascade.detectMultiScale(gray, 1.1, 9)\n",
    "    for (x,y,w,h) in bodies:\n",
    "        cv2.rectangle(frame,(x,y),(x+w,y+h),(0,255,0),2)\n",
    "        \n",
    "    cv2.imshow('image',frame)\n",
    "\n",
    "    if cv2.waitKey(1) & 0xFF == ord('q'):\n",
    "        break"
   ]
  },
  {
   "attachments": {},
   "cell_type": "markdown",
   "metadata": {},
   "source": [
    "Araç algılama"
   ]
  },
  {
   "cell_type": "code",
   "execution_count": 9,
   "metadata": {},
   "outputs": [],
   "source": [
    "import cv2\n",
    "\n",
    "\n",
    "img = cv2.imread(\"C:\\\\OpenCV\\\\test_images\\\\car.jpg.jpg\")\n",
    "car_cascade = cv2.CascadeClassifier(\"C:\\\\OpenCV\\\\haarCascade\\\\car.xml.xml\")\n",
    "\n",
    "\n",
    "gray = cv2.cvtColor(img, cv2.COLOR_BGR2GRAY)\n",
    "cars = car_cascade.detectMultiScale(gray,1.1,3)\n",
    "\n",
    "for (x,y,w,h) in cars:\n",
    "\tcv2.rectangle(img,(x,y),(x+w,x+h),(0,0,255),3)\n",
    "    \n",
    "cv2.imshow('image',img)\n",
    "\n",
    "cv2.waitKey()\n",
    "cv2.destroyAllWindows()"
   ]
  },
  {
   "cell_type": "code",
   "execution_count": 1,
   "metadata": {},
   "outputs": [],
   "source": [
    "import cv2\n",
    "\n",
    "\n",
    "vid = cv2.VideoCapture(\"C:\\\\OpenCV\\\\test_videos\\\\car.mp4.mp4\")\n",
    "car_cascade = cv2.CascadeClassifier(\"C:\\\\OpenCV\\\\haarCascade\\\\car.xml.xml\")\n",
    "\n",
    "while True:\n",
    "    ret,frame = vid.read()\n",
    "    frame = cv2.resize(frame, (640,480))\n",
    "    gray = cv2.cvtColor(frame, cv2.COLOR_BGR2GRAY)\n",
    "    cars = car_cascade.detectMultiScale(gray,1.1,7)\n",
    "\n",
    "    for (x,y,w,h) in cars:\n",
    "        cv2.rectangle(frame,(x,y),(x+w,y+h),(0,0,255),3)\n",
    "    \n",
    "    cv2.imshow('image',frame)\n",
    "\n",
    "    if cv2.waitKey(5) & 0xFF == ord('q'):\n",
    "        break\n",
    "    \n",
    "vid.release()\n",
    "cv2.destroyAllWindows()\n"
   ]
  }
 ],
 "metadata": {
  "kernelspec": {
   "display_name": "Python 3",
   "language": "python",
   "name": "python3"
  },
  "language_info": {
   "codemirror_mode": {
    "name": "ipython",
    "version": 3
   },
   "file_extension": ".py",
   "mimetype": "text/x-python",
   "name": "python",
   "nbconvert_exporter": "python",
   "pygments_lexer": "ipython3",
   "version": "3.9.13"
  },
  "orig_nbformat": 4
 },
 "nbformat": 4,
 "nbformat_minor": 2
}

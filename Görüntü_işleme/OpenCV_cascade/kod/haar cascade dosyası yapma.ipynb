{
 "cells": [
  {
   "attachments": {},
   "cell_type": "markdown",
   "metadata": {},
   "source": [
    "Haar Cascade dosyası yapma:\n",
    "1.Haar eğitici yönteminin belirlenmesi\n",
    "  a.server\n",
    "  b.virtual machine\n",
    "  c.haar cascade trainer\n",
    "2.Nesnenin belirlenmesi\n",
    "  a.algılanması amaçlanan nesnelerin belirlenmesi(telefon,insan,saat)\n",
    "3.Veri kümesi\n",
    "  a.nesne ile ilgili pozitif veya negatif resimlerden oluşan bir dosya\n",
    "  b.toplu resim indirme programı\n",
    "  c.resim kırpma programı\n",
    "  d.hazır veri kümesi\n",
    "4.Eğitimin yapılması ve uygulama"
   ]
  },
  {
   "cell_type": "code",
   "execution_count": 4,
   "metadata": {},
   "outputs": [],
   "source": [
    "import cv2\n",
    "\n",
    "\n",
    "vid = cv2.VideoCapture(\"C:\\\\OpenCV\\\\test_videos\\\\car.mp4.mp4\")\n",
    "car_cascade = cv2.CascadeClassifier(\"C:\\\\OpenCV\\\\car_cascade\\\\car_cascade.xml\")\n",
    "\n",
    "while True:\n",
    "    ret,frame = vid.read()\n",
    "    frame = cv2.resize(frame, (640,480))\n",
    "    gray = cv2.cvtColor(frame, cv2.COLOR_BGR2GRAY)\n",
    "    cars = car_cascade.detectMultiScale(gray,1.3,2)\n",
    "\n",
    "    for (x,y,w,h) in cars:\n",
    "        cv2.rectangle(frame,(x,y),(x+w,y+h),(0,0,255),3)\n",
    "    \n",
    "    cv2.imshow('image',frame)\n",
    "\n",
    "    if cv2.waitKey(5) & 0xFF == ord('q'):\n",
    "        break\n",
    "    \n",
    "vid.release()\n",
    "cv2.destroyAllWindows()\n"
   ]
  }
 ],
 "metadata": {
  "kernelspec": {
   "display_name": "Python 3",
   "language": "python",
   "name": "python3"
  },
  "language_info": {
   "codemirror_mode": {
    "name": "ipython",
    "version": 3
   },
   "file_extension": ".py",
   "mimetype": "text/x-python",
   "name": "python",
   "nbconvert_exporter": "python",
   "pygments_lexer": "ipython3",
   "version": "3.9.13"
  },
  "orig_nbformat": 4
 },
 "nbformat": 4,
 "nbformat_minor": 2
}

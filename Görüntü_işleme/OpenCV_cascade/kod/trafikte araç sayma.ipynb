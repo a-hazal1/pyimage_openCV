{
 "cells": [
  {
   "attachments": {},
   "cell_type": "markdown",
   "metadata": {},
   "source": [
    "Trafikteki araçları sayma"
   ]
  },
  {
   "cell_type": "code",
   "execution_count": 2,
   "metadata": {},
   "outputs": [
    {
     "ename": "KeyboardInterrupt",
     "evalue": "",
     "output_type": "error",
     "traceback": [
      "\u001b[1;31m---------------------------------------------------------------------------\u001b[0m",
      "\u001b[1;31mKeyboardInterrupt\u001b[0m                         Traceback (most recent call last)",
      "\u001b[1;32m~\\AppData\\Local\\Temp\\ipykernel_10652\\264922586.py\u001b[0m in \u001b[0;36m<module>\u001b[1;34m\u001b[0m\n\u001b[0;32m     31\u001b[0m         \u001b[0mcv2\u001b[0m\u001b[1;33m.\u001b[0m\u001b[0mimshow\u001b[0m\u001b[1;33m(\u001b[0m\u001b[1;34m\"fgmask\"\u001b[0m\u001b[1;33m,\u001b[0m\u001b[0mfgmask\u001b[0m\u001b[1;33m)\u001b[0m\u001b[1;33m\u001b[0m\u001b[1;33m\u001b[0m\u001b[0m\n\u001b[0;32m     32\u001b[0m \u001b[1;33m\u001b[0m\u001b[0m\n\u001b[1;32m---> 33\u001b[1;33m         \u001b[1;32mif\u001b[0m \u001b[0mcv2\u001b[0m\u001b[1;33m.\u001b[0m\u001b[0mwaitKey\u001b[0m\u001b[1;33m(\u001b[0m\u001b[1;36m40\u001b[0m\u001b[1;33m)\u001b[0m \u001b[1;33m&\u001b[0m \u001b[1;36m0xFF\u001b[0m\u001b[1;33m==\u001b[0m\u001b[0mord\u001b[0m\u001b[1;33m(\u001b[0m\u001b[1;34m'q'\u001b[0m\u001b[1;33m)\u001b[0m\u001b[1;33m:\u001b[0m\u001b[1;33m\u001b[0m\u001b[1;33m\u001b[0m\u001b[0m\n\u001b[0m\u001b[0;32m     34\u001b[0m             \u001b[1;32mbreak\u001b[0m\u001b[1;33m\u001b[0m\u001b[1;33m\u001b[0m\u001b[0m\n\u001b[0;32m     35\u001b[0m \u001b[1;33m\u001b[0m\u001b[0m\n",
      "\u001b[1;31mKeyboardInterrupt\u001b[0m: "
     ]
    }
   ],
   "source": [
    "import cv2\n",
    "import numpy as np\n",
    "\n",
    "vid = cv2.VideoCapture(\"C:\\\\OpenCV\\\\test_videos\\\\traffic.avi.avi\")\n",
    "backsub = cv2.createBackgroundSubtractorMOG2()\n",
    "c = 0\n",
    "\n",
    "while True:\n",
    "    ret,frame = vid.read()\n",
    "    if ret:\n",
    "        fgmask = backsub.apply(frame)\n",
    "        cv2.line(frame,(50,0),(50,300),(0,255,0),2)\n",
    "        cv2.line(frame,(70,0),(70,300),(0,255,0),2)\n",
    "\n",
    "        contours,hierarchy = cv2.findContours(fgmask,cv2.RETR_TREE,cv2.CHAIN_APPROX_SIMPLE)\n",
    "        try : hierarchy = hierarchy[0]\n",
    "        except: hierarchy=[]\n",
    "\n",
    "        for contour,hier in zip(contours,hierarchy):\n",
    "            (x,y,w,h) = cv2.boundingRect(contour)\n",
    "            if w>40 and h >40:\n",
    "                cv2.rectangle(frame,(x,y),(x+w,y+h),(255,0,0),3)\n",
    "                if x>50 and x<70:\n",
    "                    c+=1\n",
    "\n",
    "        # cv2.putText(source_image,text,coordinates,font,size,color,thickness,better look)          \n",
    "        cv2.putText(frame,\"car: \"+str(c),(90,100),cv2.FONT_HERSHEY_SIMPLEX,2,(0,0,255),2,cv2.LINE_AA)\n",
    "        \n",
    "\n",
    "        cv2.imshow(\"Car Counting\",frame)\n",
    "        cv2.imshow(\"fgmask\",fgmask)\n",
    "        \n",
    "        if cv2.waitKey(40) & 0xFF==ord('q'):\n",
    "            break\n",
    "\n",
    "vid.release()\n",
    "cv2.destroyAllWindows()  "
   ]
  }
 ],
 "metadata": {
  "kernelspec": {
   "display_name": "Python 3",
   "language": "python",
   "name": "python3"
  },
  "language_info": {
   "codemirror_mode": {
    "name": "ipython",
    "version": 3
   },
   "file_extension": ".py",
   "mimetype": "text/x-python",
   "name": "python",
   "nbconvert_exporter": "python",
   "pygments_lexer": "ipython3",
   "version": "3.9.13"
  },
  "orig_nbformat": 4
 },
 "nbformat": 4,
 "nbformat_minor": 2
}

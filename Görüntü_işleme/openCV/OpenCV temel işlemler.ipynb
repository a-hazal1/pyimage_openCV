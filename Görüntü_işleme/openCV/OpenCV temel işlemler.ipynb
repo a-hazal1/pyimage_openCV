{
 "cells": [
  {
   "cell_type": "markdown",
   "metadata": {},
   "source": [
    "OpenCV Temel İşlemler"
   ]
  },
  {
   "cell_type": "markdown",
   "metadata": {},
   "source": [
    "pikseller"
   ]
  },
  {
   "cell_type": "code",
   "execution_count": 10,
   "metadata": {},
   "outputs": [
    {
     "name": "stdout",
     "output_type": "stream",
     "text": [
      "(365, 379, 3)\n",
      "[120 199 250]\n"
     ]
    }
   ],
   "source": [
    "import cv2\n",
    "import numpy as np\n",
    "cv2.namedWindow(\"resim\",cv2.WINDOW_NORMAL)\n",
    "img=cv2.imread(\"C:/kesim.jpg\")\n",
    "resimboyut=img.shape\n",
    "print(resimboyut)\n",
    "color=img[150,200]#bu pikseldeki renk değeri\n",
    "print(color)\n",
    "cv2.imshow(\"resim\",img)\n",
    "cv2.waitKey(0)\n",
    "cv2.destroyAllWindows()"
   ]
  },
  {
   "cell_type": "code",
   "execution_count": 3,
   "metadata": {},
   "outputs": [
    {
     "name": "stdout",
     "output_type": "stream",
     "text": [
      "(365, 379, 3)\n",
      "BGR: [120 199 250]\n",
      "blue: 31\n",
      "green: 7\n",
      "red: 25\n",
      "new blue: 250\n"
     ]
    }
   ],
   "source": [
    "import cv2\n",
    "import numpy as np\n",
    "cv2.namedWindow(\"resim\",cv2.WINDOW_NORMAL)\n",
    "img=cv2.imread(\"C:/kesim.jpg\")\n",
    "\n",
    "resimboyut=img.shape\n",
    "print(resimboyut)\n",
    "\n",
    "color=img[150,200]#bu pikseldeki renk değeri\n",
    "print(\"BGR:\",color)\n",
    "\n",
    "blue=img[360,370,0]#img.item(360,370,0)\n",
    "print(\"blue:\",blue)\n",
    "\n",
    "green=img[360,370,1]\n",
    "print(\"green:\",green)\n",
    "\n",
    "red=img[360,370,2]\n",
    "print(\"red:\",red)\n",
    "\n",
    "\n",
    "img[360,370,0]=250\n",
    "print(\"new blue:\",img[360,370,0])\n",
    "\n",
    "\n",
    "cv2.imshow(\"resim\",img)\n",
    "cv2.waitKey(0)\n",
    "cv2.destroyAllWindows()"
   ]
  },
  {
   "cell_type": "markdown",
   "metadata": {},
   "source": [
    "ROI kavramı"
   ]
  },
  {
   "cell_type": "code",
   "execution_count": null,
   "metadata": {},
   "outputs": [],
   "source": [
    "#region of interest(ilgi alanı)"
   ]
  },
  {
   "cell_type": "code",
   "execution_count": 2,
   "metadata": {},
   "outputs": [
    {
     "name": "stdout",
     "output_type": "stream",
     "text": [
      "(365, 379)\n"
     ]
    }
   ],
   "source": [
    "import cv2\n",
    "import numpy as np\n",
    "cv2.namedWindow(\"resim\",cv2.WINDOW_NORMAL)\n",
    "img=cv2.imread(\"C:/kesim.jpg\")\n",
    "\n",
    "resimboyut=img.shape[:2]\n",
    "print(resimboyut)\n",
    "\n",
    "roi=img[100:200,100:200]\n",
    "\n",
    "\n",
    "cv2.imshow(\"resim\",img)\n",
    "cv2.imshow(\"roi\",roi)\n",
    "cv2.waitKey(0)\n",
    "cv2.destroyAllWindows()"
   ]
  },
  {
   "cell_type": "markdown",
   "metadata": {},
   "source": [
    "görüntülerde toplama işlemi"
   ]
  },
  {
   "cell_type": "code",
   "execution_count": 1,
   "metadata": {},
   "outputs": [],
   "source": [
    "#aynı boyutta olmaları gerekiyor\n",
    "import cv2\n",
    "import numpy as np\n",
    "\n",
    "circle=np.zeros((512,512,3),np.uint8)+255\n",
    "cv2.circle(circle,(256,256),60,(255,0,0),-1)\n",
    "\n",
    "rectangle=np.zeros((512,512,3),np.uint8)+255\n",
    "cv2.rectangle(rectangle, (150,150),(350,350),(0,0,255),-1)\n",
    "\n",
    "add=cv2.add(circle,rectangle)\n",
    "\n",
    "cv2.imshow(\"circle\",circle)\n",
    "cv2.imshow(\"rectangle\",rectangle)\n",
    "cv2.imshow(\"add\",add)\n",
    "\n",
    "cv2.waitKey(0)\n",
    "cv2.destroyAllWindows()"
   ]
  },
  {
   "cell_type": "markdown",
   "metadata": {},
   "source": [
    "ağırlıklı toplama işlemi"
   ]
  },
  {
   "cell_type": "code",
   "execution_count": 8,
   "metadata": {},
   "outputs": [],
   "source": [
    "import cv2\n",
    "import numpy as np\n",
    "\n",
    "circle=np.zeros((512,512,3),np.uint8)+255\n",
    "cv2.circle(circle,(256,256),60,(255,0,0),-1)\n",
    "\n",
    "rectangle=np.zeros((512,512,3),np.uint8)+255\n",
    "cv2.rectangle(rectangle, (150,150),(350,350),(0,0,255),-1)\n",
    "\n",
    "\n",
    "dst=cv2.addWeighted(circle,1.3, rectangle,1.7 ,0)\n",
    "\n",
    "\n",
    "cv2.imshow(\"circle\",circle)\n",
    "cv2.imshow(\"rectangle\",rectangle)\n",
    "cv2.imshow(\"dst\",dst)\n",
    "\n",
    "cv2.waitKey(0)\n",
    "cv2.destroyAllWindows()"
   ]
  },
  {
   "cell_type": "markdown",
   "metadata": {},
   "source": [
    "renk uzayı nedir"
   ]
  },
  {
   "cell_type": "code",
   "execution_count": 16,
   "metadata": {},
   "outputs": [],
   "source": [
    "import cv2\n",
    "import numpy as np\n",
    "\n",
    "img=cv2.imread(\"C:/klon.jpg\")\n",
    "\n",
    "img1=cv2.cvtColor(img,cv2.COLOR_BGR2RGB)#gösterilcekresim, çevirmeişlemi\n",
    "img2=cv2.cvtColor(img,cv2.COLOR_BGR2HSV)\n",
    "img3=cv2.cvtColor(img,cv2.COLOR_BGR2GRAY)\n",
    "\n",
    "cv2.imshow(\"image\",img)#bgr\n",
    "cv2.imshow(\"image2\",img1)#rgb\n",
    "cv2.imshow(\"image3\",img1)#HSV\n",
    "cv2.imshow(\"image4\",img1)#GRAY\n",
    "\n",
    "cv2.waitKey(0)\n",
    "cv2.destroyAllWindows()"
   ]
  },
  {
   "cell_type": "markdown",
   "metadata": {},
   "source": [
    "Vidyoların rengini değiştirme"
   ]
  },
  {
   "cell_type": "code",
   "execution_count": null,
   "metadata": {},
   "outputs": [],
   "source": [
    "import cv2\n",
    "import numpy as np\n",
    "\n",
    "vid=cv2.VideoCapture(\"C:/videoplayback.mp4\")\n",
    "\n",
    "\n",
    "while True:\n",
    "    ret,frame=vid.read()\n",
    "    frame=cv2.cvtColor(frame,cv2.COLOR_BGR2GRAY)\n",
    "    if ret==False:\n",
    "        break\n",
    "    cv2.imshow(\"video\",frame)#bgr\n",
    "    if cv2.waitKey(10)& 0xFF== ord(\"q\"):\n",
    "        break\n",
    "\n",
    "vid.release()\n",
    "cv2.destroyAllWindows()"
   ]
  },
  {
   "cell_type": "code",
   "execution_count": null,
   "metadata": {},
   "outputs": [],
   "source": [
    "import cv2\n",
    "import numpy as np\n",
    "import requests\n",
    "url=\"https://192.168.1.63:8080//hot.jpg\"\n",
    "while True:\n",
    "    img_resp=requests.get(url)\n",
    "    img_arr=np.array(bytearray(img_resp.content), dtype=np.uint8)#aldığım görüntüyü bytearray e çevirdik(hafızadan tekrar çektik)\n",
    "    img=cv2.imdecode(img_arr,cv2.IMREAD_COLOR)\n",
    "    img=cv2.resize(img, (640,480))\n",
    "    cv2.imshow(\"android camera\",img)\n",
    "    if cv2.waitKey(1)==27:\n",
    "        break\n",
    "    cv2.destroyAllWindows()"
   ]
  },
  {
   "cell_type": "markdown",
   "metadata": {},
   "source": [
    "Smoothing images"
   ]
  },
  {
   "cell_type": "code",
   "execution_count": 1,
   "metadata": {},
   "outputs": [],
   "source": [
    "import cv2\n",
    "import numpy as np\n",
    "\n",
    "img_bilateral = cv2.imread(\"C:/klon.jpg\")\n",
    "\n",
    "blur_b = cv2.bilateralFilter(img_bilateral,9,95,95)\n",
    "\n",
    "cv2.imshow(\"original\",img_bilateral)\n",
    "\n",
    "cv2.waitKey(0)\n",
    "cv2.destroyAllWindows()"
   ]
  },
  {
   "cell_type": "code",
   "execution_count": 3,
   "metadata": {},
   "outputs": [],
   "source": [
    "import cv2\n",
    "import numpy as np\n",
    "\n",
    "img_filter = cv2.imread(\"C:/filter.png\")\n",
    "\n",
    "blur = cv2.blur(img_filter,(5,5))\n",
    "blur_g = cv2.GaussianBlur(img_filter,(5,5),cv2.BORDER_DEFAULT)\n",
    "\n",
    "cv2.imshow(\"original\",img_filter)\n",
    "cv2.imshow(\"blur_g\",blur_g)\n",
    "cv2.waitKey(0)\n",
    "cv2.destroyAllWindows()"
   ]
  },
  {
   "cell_type": "code",
   "execution_count": 5,
   "metadata": {},
   "outputs": [],
   "source": [
    "import cv2\n",
    "import numpy as np\n",
    "\n",
    "img_median = cv2.imread(\"C:/median.png\")\n",
    "\n",
    "blur_m = cv2.medianBlur(img_median,5)\n",
    "\n",
    "cv2.imshow(\"original\",img_median)\n",
    "cv2.imshow(\"blur_m\",blur_m)\n",
    "cv2.waitKey(0)\n",
    "cv2.destroyAllWindows()"
   ]
  },
  {
   "cell_type": "markdown",
   "metadata": {},
   "source": [
    "Bwitse"
   ]
  },
  {
   "cell_type": "code",
   "execution_count": 11,
   "metadata": {},
   "outputs": [],
   "source": [
    "import cv2\n",
    "import numpy as np\n",
    "\n",
    "img1 = cv2.imread(\"C:/bitwise_1.png\")\n",
    "img2 = cv2.imread(\"C:/bitwise_2.png\")\n",
    "\n",
    "bit_and = cv2.bitwise_and(img2,img1)\n",
    "bit_or = cv2.bitwise_or(img2,img1)\n",
    "bit_xor = cv2.bitwise_xor(img2,img1)\n",
    "bit_not = cv2.bitwise_not(img1)\n",
    "bit_not2 = cv2.bitwise_not(img2)\n",
    "\n",
    "cv2.imshow(\"img1\",img1)\n",
    "cv2.imshow(\"img2\",img2)\n",
    "#cv2.imshow(\"bit_and\",bit_and)\n",
    "#cv2.imshow(\"bit_or\",bit_or)\n",
    "cv2.imshow(\"bit_xor\",bit_xor)\n",
    "\n",
    "cv2.waitKey(0)\n",
    "cv2.destroyAllWindows()"
   ]
  },
  {
   "cell_type": "markdown",
   "metadata": {},
   "source": [
    "resim dönüşüm dizeyi"
   ]
  },
  {
   "cell_type": "code",
   "execution_count": 17,
   "metadata": {},
   "outputs": [],
   "source": [
    "import cv2\n",
    "import numpy as np\n",
    "\n",
    "img = cv2.imread(\"C:/klon.jpg\",0)#0siyah beyaz olması için\n",
    "row,col = img.shape\n",
    "\n",
    "M= np.float32([[1,0,0],[0,1,0]])\n",
    "\n",
    "dst = cv2.warpAffine(img,M,(row,col))\n",
    "\n",
    "cv2.imshow(\"dst\",dst)\n",
    "cv2.waitKey(0)\n",
    "cv2.destroyAllWindows()"
   ]
  },
  {
   "cell_type": "markdown",
   "metadata": {},
   "source": [
    "resmi döndürme"
   ]
  },
  {
   "cell_type": "code",
   "execution_count": 2,
   "metadata": {},
   "outputs": [],
   "source": [
    "import cv2\n",
    "import numpy as np\n",
    "\n",
    "img = cv2.imread(\"C:/filter.png\",0)\n",
    "row,col = img.shape\n",
    "\n",
    "M= cv2.getRotationMatrix2D((col/2,row/2),90,1)#2boyutta yön değiştirme fonk\n",
    "#sütun,satır,hangi yöde döndürme,ölçek\n",
    "dst = cv2.warpAffine(img,M,(col,row))\n",
    "\n",
    "cv2.imshow(\"dst\",dst)\n",
    "cv2.waitKey(0)\n",
    "cv2.destroyAllWindows()"
   ]
  },
  {
   "cell_type": "markdown",
   "metadata": {},
   "source": [
    "thres holding\n",
    "th2 ve th3 arasındaki fark???"
   ]
  },
  {
   "cell_type": "code",
   "execution_count": 10,
   "metadata": {},
   "outputs": [],
   "source": [
    "import cv2\n",
    "import numpy as np\n",
    "from matplotlib import pyplot as plt\n",
    "\n",
    "img = cv2.imread(\"C:/filter.png\",0)\n",
    "\n",
    "ret,th1 = cv2.threshold(img,150,200,cv2.THRESH_BINARY)#resim,aralık,\n",
    "th2 = cv2.adaptiveThreshold(img,255,cv2.ADAPTIVE_THRESH_MEAN_C,cv2.THRESH_BINARY,31,2)#sona girilen değerler \n",
    "th3 = cv2.adaptiveThreshold(img,255,cv2.ADAPTIVE_THRESH_GAUSSIAN_C,cv2.THRESH_BINARY,31,2)\n",
    "\n",
    "cv2.imshow(\"img\",img)\n",
    "#cv2.imshow(\"img-th1\",th1)\n",
    "#cv2.imshow(\"img-th2\",th2)\n",
    "cv2.imshow(\"img-th3\",th3)\n",
    "cv2.waitKey(0)\n",
    "cv2.destroyAllWindows()"
   ]
  },
  {
   "cell_type": "markdown",
   "metadata": {},
   "source": [
    "morfolojik işlemler"
   ]
  },
  {
   "cell_type": "code",
   "execution_count": 13,
   "metadata": {},
   "outputs": [],
   "source": [
    "import cv2\n",
    "import numpy as np\n",
    "\n",
    "img = cv2.imread(\"C:/klon.jpg\",0)\n",
    "\n",
    "kernel = np.ones((5,5),np.uint8)\n",
    "#iterasyon=tekrar etme\n",
    "#dilation=cv2.dilate(img,kernel,iterations=2)#resmin verilen pikseller boyutunda kalınlaştırma\n",
    "#erosion=cv2.erode(img,kernel,iterations=1)#resmi erezyona uğratmak bozmak inceltiyor\n",
    "#opening=cv2.morphologyEx(img,cv2.MORPH_OPEN, kernel)\n",
    "gra=cv2.morphologyEx(img,cv2.MORPH_GRADIENT, kernel)#sadece sınırlarbeyaz çizili\n",
    "top=cv2.morphologyEx(img,cv2.MORPH_TOPHAT, kernel)#kesişim bölgeleri silinmiş\n",
    "cv2.imshow(\"img\",img)\n",
    "\n",
    "#cv2.imshow(\"e\",erosion)\n",
    "#cv2.imshow(\"di\",dilation)\n",
    "#cv2.imshow(\"op\",opening)\n",
    "cv2.imshow(\"gr\",gra)\n",
    "cv2.imshow(\"top\",top)\n",
    "\n",
    "cv2.waitKey(0)\n",
    "cv2.destroyAllWindows()"
   ]
  },
  {
   "cell_type": "markdown",
   "metadata": {},
   "source": [
    "histogram"
   ]
  },
  {
   "cell_type": "code",
   "execution_count": 1,
   "metadata": {},
   "outputs": [
    {
     "data": {
      "image/png": "[encoded data removed]",
      "text/plain": [
       "<Figure size 432x288 with 1 Axes>"
      ]
     },
     "metadata": {
      "needs_background": "light"
     },
     "output_type": "display_data"
    }
   ],
   "source": [
    "import cv2\n",
    "import numpy as np\n",
    "from matplotlib import pyplot as plt  # eğer yüklü değilse, cmd --> pip install matplotlib\n",
    "\n",
    "img = cv2.imread(\"C:/smile.jpg\")\n",
    "b,g,r = cv2.split(img)\n",
    "cv2.imshow(\"img\",img)\n",
    "\n",
    "plt.hist(b.ravel(),256,[0,256])#tekbir satıra hist değerleri için ravel,\n",
    "#0,256 ya kadar 256 değer olduğu\n",
    "plt.hist(g.ravel(),256,[0,256])\n",
    "\n",
    "plt.show()\n",
    "\n",
    "cv2.waitKey(0)\n",
    "cv2.destroyAllWindows()"
   ]
  },
  {
   "cell_type": "markdown",
   "metadata": {},
   "source": [
    "corner dedection"
   ]
  },
  {
   "cell_type": "code",
   "execution_count": 6,
   "metadata": {},
   "outputs": [],
   "source": [
    "import cv2\n",
    "import numpy as np\n",
    "\n",
    "img = cv2.imread(\"C/text.png\")\n",
    "img1 = cv2.imread(\"C:/contour.png\")\n",
    "\n",
    "gray = cv2.cvtColor(img1 ,cv2.COLOR_BGR2GRAY)\n",
    "\n",
    "gray = np.float32(gray)#grayi işleyebilmek için float32 tipine çevirdik\n",
    "corners = cv2.goodFeaturesToTrack(gray,1000,0.01,10)#gray,max köşe sayısı,kalite değeri,min mesafe köşeler arası\n",
    "\n",
    "corners = np.int0(corners)#çember çieken float sayı kullanamadığımız için int yapıyoruz\n",
    "#korners satır(x) ve sütun(y) lardan oluşur\n",
    "for corner in corners:\n",
    "    x,y = corner.ravel()\n",
    "    cv2.circle(img1,(x,y),3,(0,0,255),-1)\n",
    "\n",
    "cv2.imshow(\"corner\",img1)\n",
    "\n",
    "cv2.waitKey(0)\n",
    "cv2.destroyAllWindows()"
   ]
  },
  {
   "cell_type": "code",
   "execution_count": 1,
   "metadata": {},
   "outputs": [],
   "source": [
    "# cv2.Canny(input,minThreshold,maxThreshold)\n",
    "\n",
    "import cv2\n",
    "\n",
    "cap = cv2.VideoCapture(0)\n",
    "\n",
    "while 1:\n",
    "    ret,frame = cap.read()\n",
    "    frame = cv2.flip(frame,1)#görüntüyü takla attırma 1 yaınca y ye göre \n",
    "\n",
    "    edges = cv2.Canny(frame,100,200)\n",
    "\n",
    "    cv2.imshow(\"Frame\",frame)\n",
    "    cv2.imshow(\"Edges\",edges)\n",
    "\n",
    "    if cv2.waitKey(5) & 0xFF==ord('q'):\n",
    "        break\n",
    "\n",
    "cap.release()\n",
    "cv2.destroyAllWindows()"
   ]
  }
 ],
 "metadata": {
  "kernelspec": {
   "display_name": "Python 3.9.13 ('base')",
   "language": "python",
   "name": "python3"
  },
  "language_info": {
   "codemirror_mode": {
    "name": "ipython",
    "version": 3
   },
   "file_extension": ".py",
   "mimetype": "text/x-python",
   "name": "python",
   "nbconvert_exporter": "python",
   "pygments_lexer": "ipython3",
   "version": "3.9.13"
  },
  "orig_nbformat": 4,
  "vscode": {
   "interpreter": {
    "hash": "793d7a28b5b9f17abeaba96312993ecd41ee9a8612a0751ebdd41930e8208caa"
   }
  }
 },
 "nbformat": 4,
 "nbformat_minor": 2
}
